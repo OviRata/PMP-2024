{
  "nbformat": 4,
  "nbformat_minor": 0,
  "metadata": {
    "colab": {
      "provenance": [],
      "authorship_tag": "ABX9TyMj5+kLw3eONnSX3Jefib93",
      "include_colab_link": true
    },
    "kernelspec": {
      "name": "python3",
      "display_name": "Python 3"
    },
    "language_info": {
      "name": "python"
    }
  },
  "cells": [
    {
      "cell_type": "markdown",
      "metadata": {
        "id": "view-in-github",
        "colab_type": "text"
      },
      "source": [
        "<a href=\"https://colab.research.google.com/github/OviRata/PMP-2024/blob/main/TemaPMP_Rata_Ovidiu_3A3.ipynb\" target=\"_parent\"><img src=\"https://colab.research.google.com/assets/colab-badge.svg\" alt=\"Open In Colab\"/></a>"
      ]
    },
    {
      "cell_type": "code",
      "execution_count": null,
      "metadata": {
        "colab": {
          "base_uri": "https://localhost:8080/"
        },
        "id": "whckct3fMTA_",
        "outputId": "4baa4a25-30f7-4e5f-f996-2951dee28072"
      },
      "outputs": [
        {
          "output_type": "stream",
          "name": "stdout",
          "text": [
            "Valoarea maximă a lui α pentru a servi clienții în sub 15 minute cu probabilitate de 95% este aproximativ: 1.62 minute.\n",
            "Timpul mediu de așteptare pentru a fi servit al unui client este de aproximativ: 3.62 minute.\n"
          ]
        }
      ],
      "source": [
        "import numpy as np\n",
        "\n",
        "lambda_customers = 20\n",
        "average_order_time = 2\n",
        "max_wait_time = 15\n",
        "probability_threshold = 0.95\n",
        "\n",
        "def simulate_service(alpha, num_simulations=10000):\n",
        "    successful_simulations = 0\n",
        "\n",
        "    for _ in range(num_simulations):\n",
        "        num_customers = np.random.poisson(lambda_customers)\n",
        "        order_times = np.random.exponential(average_order_time, num_customers)\n",
        "        cooking_times = np.random.exponential(alpha, num_customers)\n",
        "\n",
        "        total_times = order_times + cooking_times\n",
        "\n",
        "        if np.all(total_times <= max_wait_time):\n",
        "            successful_simulations += 1\n",
        "\n",
        "    return successful_simulations / num_simulations\n",
        "\n",
        "alpha_min, alpha_max = 0.1, 5\n",
        "tolerance = 0.01\n",
        "\n",
        "num_intervals = 100;\n",
        "delta = (alpha_max-alpha_min)/float(num_intervals)\n",
        "\n",
        "alpha_optimal=0;\n",
        "for i in range(num_intervals):\n",
        "  if(  simulate_service(alpha_min+i*delta)>=probability_threshold ):\n",
        "    alpha_optimal=alpha_min+i*delta;\n",
        "\n",
        "print(f\"Valoarea maximă a lui α pentru a servi clienții în sub {max_wait_time} minute cu probabilitate de 95% este aproximativ: {alpha_optimal:.2f}.\")\n",
        "\n",
        "def average_wait_time(alpha, num_simulations=10000):\n",
        "    wait_times = []\n",
        "\n",
        "    for _ in range(num_simulations):\n",
        "        num_customers = np.random.poisson(lambda_customers)\n",
        "        order_times = np.random.exponential(average_order_time, num_customers)\n",
        "        cooking_times = np.random.exponential(alpha, num_customers)\n",
        "\n",
        "        total_times = order_times + cooking_times\n",
        "        wait_times.extend(total_times)\n",
        "\n",
        "    return np.mean(wait_times)\n",
        "\n",
        "average_wait = average_wait_time(alpha_optimal)\n",
        "print(f\"Timpul mediu de așteptare pentru a fi servit al unui client este de aproximativ: {average_wait:.2f} minute.\")"
      ]
    },
    {
      "cell_type": "code",
      "source": [],
      "metadata": {
        "id": "nyukCwgOeXU1"
      },
      "execution_count": null,
      "outputs": []
    }
  ]
}