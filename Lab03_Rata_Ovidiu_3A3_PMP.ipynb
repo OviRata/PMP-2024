{
  "nbformat": 4,
  "nbformat_minor": 0,
  "metadata": {
    "colab": {
      "provenance": [],
      "authorship_tag": "ABX9TyOzYallEOqF0B5eS3pKO+f/",
      "include_colab_link": true
    },
    "kernelspec": {
      "name": "python3",
      "display_name": "Python 3"
    },
    "language_info": {
      "name": "python"
    }
  },
  "cells": [
    {
      "cell_type": "markdown",
      "metadata": {
        "id": "view-in-github",
        "colab_type": "text"
      },
      "source": [
        "<a href=\"https://colab.research.google.com/github/OviRata/PMP-2024/blob/main/Lab03_Rata_Ovidiu_3A3_PMP.ipynb\" target=\"_parent\"><img src=\"https://colab.research.google.com/assets/colab-badge.svg\" alt=\"Open In Colab\"/></a>"
      ]
    },
    {
      "cell_type": "code",
      "execution_count": 18,
      "metadata": {
        "colab": {
          "base_uri": "https://localhost:8080/"
        },
        "id": "yo_G5c7BtowR",
        "outputId": "8bdb8eba-8626-4341-e6b0-eab0cbcf9800"
      },
      "outputs": [
        {
          "output_type": "stream",
          "name": "stdout",
          "text": [
            "+------+----------+\n",
            "| S    |   phi(S) |\n",
            "+======+==========+\n",
            "| S(0) |   0.9618 |\n",
            "+------+----------+\n",
            "| S(1) |   0.0382 |\n",
            "+------+----------+\n",
            "+------+----------+\n",
            "| S    |   phi(S) |\n",
            "+======+==========+\n",
            "| S(0) |   0.8630 |\n",
            "+------+----------+\n",
            "| S(1) |   0.1370 |\n",
            "+------+----------+\n",
            "+------+----------+\n",
            "| S    |   phi(S) |\n",
            "+======+==========+\n",
            "| S(0) |   0.8710 |\n",
            "+------+----------+\n",
            "| S(1) |   0.1290 |\n",
            "+------+----------+\n",
            "+------+----------+\n",
            "| S    |   phi(S) |\n",
            "+======+==========+\n",
            "| S(0) |   0.5294 |\n",
            "+------+----------+\n",
            "| S(1) |   0.4706 |\n",
            "+------+----------+\n",
            "+------+----------+\n",
            "| S    |   phi(S) |\n",
            "+======+==========+\n",
            "| S(0) |   0.5455 |\n",
            "+------+----------+\n",
            "| S(1) |   0.4545 |\n",
            "+------+----------+\n",
            "+------+----------+\n",
            "| S    |   phi(S) |\n",
            "+======+==========+\n",
            "| S(0) |   0.2308 |\n",
            "+------+----------+\n",
            "| S(1) |   0.7692 |\n",
            "+------+----------+\n",
            "+------+----------+\n",
            "| S    |   phi(S) |\n",
            "+======+==========+\n",
            "| S(0) |   0.2432 |\n",
            "+------+----------+\n",
            "| S(1) |   0.7568 |\n",
            "+------+----------+\n",
            "+------+----------+\n",
            "| S    |   phi(S) |\n",
            "+======+==========+\n",
            "| S(0) |   0.0508 |\n",
            "+------+----------+\n",
            "| S(1) |   0.9492 |\n",
            "+------+----------+\n"
          ]
        }
      ],
      "source": [
        "#%pip install pgmpy\n",
        "\n",
        "from pgmpy.models import BayesianNetwork\n",
        "from pgmpy.factors.discrete import TabularCPD\n",
        "import networkx as nx\n",
        "\n",
        "model = BayesianNetwork([('S', 'O'), ('S', 'L'), ('S', 'M'), ('L', 'M')])\n",
        "\n",
        "\n",
        "CPD_S = TabularCPD(variable='S', variable_card=2, values=[[0.6], [0.4]])\n",
        "#print(CPD_S)\n",
        "\n",
        "CPD_O = TabularCPD(variable='O', variable_card=2,\n",
        "values=[ [0.9, 0.3],[0.1, 0.7] ],\n",
        "evidence=['S'],\n",
        "evidence_card=[2])\n",
        "\n",
        "CPD_L=TabularCPD(variable='L', variable_card=2,\n",
        "values=[ [0.7, 0.2],[0.3, 0.8] ],\n",
        "evidence=['S'],\n",
        "evidence_card=[2])\n",
        "\n",
        "CPD_M = TabularCPD(variable='M', variable_card=2,\n",
        "values=[[0.8, 0.4, 0.5, 0.1],\n",
        "[0.2, 0.6, 0.5, 0.9]],\n",
        "evidence=['S','L'],\n",
        "evidence_card=[2, 2])\n",
        "\n",
        "model.add_cpds(CPD_S, CPD_O, CPD_L, CPD_M);\n",
        "model.get_cpds()\n",
        "\n",
        "model.check_model()\n",
        "\n",
        "model.local_independencies(['S', 'O', 'L', 'M']);\n",
        "\n",
        "\n",
        "from pgmpy.inference import VariableElimination\n",
        "infer = VariableElimination(model)\n",
        "\n",
        "for i in range(2):\n",
        "  for j in range(2):\n",
        "    for k in range(2):\n",
        "      posterior_p=infer.query( [\"S\"], evidence={'O':i, 'L':j, 'M':k} );\n",
        "      print(posterior_p);\n"
      ]
    }
  ]
}