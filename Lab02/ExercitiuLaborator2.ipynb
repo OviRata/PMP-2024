{
  "nbformat": 4,
  "nbformat_minor": 0,
  "metadata": {
    "colab": {
      "provenance": [],
      "authorship_tag": "ABX9TyNC69F1QwfcjxHV1UCRuYsX",
      "include_colab_link": true
    },
    "kernelspec": {
      "name": "python3",
      "display_name": "Python 3"
    },
    "language_info": {
      "name": "python"
    }
  },
  "cells": [
    {
      "cell_type": "markdown",
      "metadata": {
        "id": "view-in-github",
        "colab_type": "text"
      },
      "source": [
        "<a href=\"https://colab.research.google.com/github/OviRata/PMP-2024/blob/main/ExercitiuLaborator2.ipynb\" target=\"_parent\"><img src=\"https://colab.research.google.com/assets/colab-badge.svg\" alt=\"Open In Colab\"/></a>"
      ]
    },
    {
      "cell_type": "code",
      "execution_count": 53,
      "metadata": {
        "colab": {
          "base_uri": "https://localhost:8080/"
        },
        "id": "gX2EHtaqlrZU",
        "outputId": "b104465d-2a1f-4f86-e4cd-3be4a19ff858"
      },
      "outputs": [
        {
          "output_type": "stream",
          "name": "stdout",
          "text": [
            "red\n",
            "4 2 4\n",
            "{'red': 0.31696495338750685, 'blue': 0.4328431128171893, 'black': 0.31696495338750685}\n"
          ]
        }
      ],
      "source": [
        "import numpy as np\n",
        "\n",
        "black=2;\n",
        "red=3;\n",
        "blue=4;\n",
        "\n",
        "def experiment():\n",
        "  prime_values=[2,3,5];\n",
        "  red_values=[6];\n",
        "  blue_values=[1,4];\n",
        "\n",
        "  global black\n",
        "  global blue\n",
        "  global red\n",
        "\n",
        "  black=2;\n",
        "  red=3;\n",
        "  blue=4;\n",
        "\n",
        "\n",
        "  def throw_dice():\n",
        "      return (np.random.randint(6))+1;\n",
        "\n",
        "\n",
        "  def add_ball():\n",
        "    global red\n",
        "    global blue\n",
        "    global black\n",
        "\n",
        "    value = throw_dice();\n",
        "    if (value in prime_values):\n",
        "      black=black+1\n",
        "\n",
        "    if (value in red_values) :\n",
        "      red=red+1\n",
        "\n",
        "    if (value in blue_values):\n",
        "      blue=blue+1\n",
        "\n",
        "  add_ball();\n",
        "\n",
        "  def get_colour(ball):\n",
        "    if (ball<=black):\n",
        "      return 'black'\n",
        "\n",
        "    if(ball<=red+black):\n",
        "      return 'red'\n",
        "\n",
        "    return 'blue';\n",
        "\n",
        "  def select_ball():\n",
        "    value = (np.random.randint(black+red+blue))+1;\n",
        "    return get_colour(value) ;\n",
        "\n",
        "  return select_ball();\n",
        "\n",
        "print( experiment() );\n",
        "print(red, black, blue);\n",
        "\n",
        "def approximation(n):\n",
        "  red_number=0;\n",
        "  blue_number=0;\n",
        "  black_number=0;\n",
        "  for i in range(0,n):\n",
        "    if ( experiment()=='red' ) :\n",
        "      red_number=red_number+1\n",
        "\n",
        "    if ( experiment()=='blue' ) :\n",
        "      blue_number=blue_number+1\n",
        "\n",
        "    if ( experiment()=='black' ) :\n",
        "      black_number=black_number+1\n",
        "\n",
        "  total=red_number+blue_number+black_number;\n",
        "  return {'red': float(red_number)/ ( float(total) ),\n",
        "          'blue': float(blue_number)/ ( float(total) ),\n",
        "          'black': float(red_number)/ ( float(total) ) };\n",
        "\n",
        "print(approximation(100000));"
      ]
    }
  ]
}