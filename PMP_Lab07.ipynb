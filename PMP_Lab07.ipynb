{
  "nbformat": 4,
  "nbformat_minor": 0,
  "metadata": {
    "colab": {
      "provenance": [],
      "authorship_tag": "ABX9TyOLb0aRIIHbk78DwFUd52jZ",
      "include_colab_link": true
    },
    "kernelspec": {
      "name": "python3",
      "display_name": "Python 3"
    },
    "language_info": {
      "name": "python"
    },
    "widgets": {
      "application/vnd.jupyter.widget-state+json": {
        "873558c9b49242e3adf70395cd0b563e": {
          "model_module": "@jupyter-widgets/output",
          "model_name": "OutputModel",
          "model_module_version": "1.0.0",
          "state": {
            "_dom_classes": [],
            "_model_module": "@jupyter-widgets/output",
            "_model_module_version": "1.0.0",
            "_model_name": "OutputModel",
            "_view_count": null,
            "_view_module": "@jupyter-widgets/output",
            "_view_module_version": "1.0.0",
            "_view_name": "OutputView",
            "layout": "IPY_MODEL_7b253686e2e9472cb23dd3b91d471293",
            "msg_id": "",
            "outputs": [
              {
                "output_type": "display_data",
                "data": {
                  "text/plain": "Sampling chain 0, 0 divergences \u001b[32m━━━━━━━━━━━━━━━━━━━━━━━━━━━━━━━━━━━━━━━━\u001b[0m \u001b[35m100%\u001b[0m \u001b[36m0:00:00\u001b[0m / \u001b[33m0:00:03\u001b[0m\n",
                  "text/html": "<pre style=\"white-space:pre;overflow-x:auto;line-height:normal;font-family:Menlo,'DejaVu Sans Mono',consolas,'Courier New',monospace\">Sampling chain 0, 0 divergences <span style=\"color: #008000; text-decoration-color: #008000\">━━━━━━━━━━━━━━━━━━━━━━━━━━━━━━━━━━━━━━━━</span> <span style=\"color: #800080; text-decoration-color: #800080\">100%</span> <span style=\"color: #008080; text-decoration-color: #008080\">0:00:00</span> / <span style=\"color: #808000; text-decoration-color: #808000\">0:00:03</span>\n</pre>\n"
                },
                "metadata": {}
              }
            ]
          }
        },
        "7b253686e2e9472cb23dd3b91d471293": {
          "model_module": "@jupyter-widgets/base",
          "model_name": "LayoutModel",
          "model_module_version": "1.2.0",
          "state": {
            "_model_module": "@jupyter-widgets/base",
            "_model_module_version": "1.2.0",
            "_model_name": "LayoutModel",
            "_view_count": null,
            "_view_module": "@jupyter-widgets/base",
            "_view_module_version": "1.2.0",
            "_view_name": "LayoutView",
            "align_content": null,
            "align_items": null,
            "align_self": null,
            "border": null,
            "bottom": null,
            "display": null,
            "flex": null,
            "flex_flow": null,
            "grid_area": null,
            "grid_auto_columns": null,
            "grid_auto_flow": null,
            "grid_auto_rows": null,
            "grid_column": null,
            "grid_gap": null,
            "grid_row": null,
            "grid_template_areas": null,
            "grid_template_columns": null,
            "grid_template_rows": null,
            "height": null,
            "justify_content": null,
            "justify_items": null,
            "left": null,
            "margin": null,
            "max_height": null,
            "max_width": null,
            "min_height": null,
            "min_width": null,
            "object_fit": null,
            "object_position": null,
            "order": null,
            "overflow": null,
            "overflow_x": null,
            "overflow_y": null,
            "padding": null,
            "right": null,
            "top": null,
            "visibility": null,
            "width": null
          }
        }
      }
    }
  },
  "cells": [
    {
      "cell_type": "markdown",
      "metadata": {
        "id": "view-in-github",
        "colab_type": "text"
      },
      "source": [
        "<a href=\"https://colab.research.google.com/github/OviRata/PMP-2024/blob/main/PMP_Lab07.ipynb\" target=\"_parent\"><img src=\"https://colab.research.google.com/assets/colab-badge.svg\" alt=\"Open In Colab\"/></a>"
      ]
    },
    {
      "cell_type": "code",
      "execution_count": null,
      "metadata": {
        "colab": {
          "base_uri": "https://localhost:8080/",
          "height": 33,
          "referenced_widgets": [
            "873558c9b49242e3adf70395cd0b563e",
            "7b253686e2e9472cb23dd3b91d471293",
            "b7b4248a821245858a04c3994f431093",
            "bfbb5920893b4f45969a520853cd2a26"
          ]
        },
        "id": "DSuewG9sAHlK",
        "outputId": "18902aa6-9bf6-494d-dc25-3ed05c19a941"
      },
      "outputs": [
        {
          "output_type": "display_data",
          "data": {
            "text/plain": [
              "Output()"
            ],
            "application/vnd.jupyter.widget-view+json": {
              "version_major": 2,
              "version_minor": 0,
              "model_id": "873558c9b49242e3adf70395cd0b563e"
            }
          },
          "metadata": {}
        }
      ],
      "source": [
        "import pymc as pm\n",
        "import numpy as np\n",
        "import arviz as az\n",
        "\n",
        "data = np.array([56, 60, 58, 55, 57, 59, 61, 56, 58, 60])\n",
        "\n",
        "\n",
        "x_prior_mean = np.mean(data)\n",
        "\n",
        "\n",
        "with pm.Model() as model:\n",
        "\n",
        "    mu = pm.Normal(\"mu\", mu=x_prior_mean, sigma=10)\n",
        "    sigma = pm.HalfNormal(\"sigma\", sigma=10)\n",
        "\n",
        "\n",
        "    likelihood = pm.Normal(\"likelihood\", mu=mu, sigma=sigma, observed=data)\n",
        "\n",
        "\n",
        "    trace = pm.sample(2000, tune=1000, return_inferencedata=True, random_seed=42)\n",
        "\n",
        "\n",
        "\n",
        "\n",
        "mu_mean = trace.posterior[\"mu\"].mean().item()\n",
        "sigma_mean = trace.posterior[\"sigma\"].mean().item()\n",
        "\n",
        "print()\n",
        "print(az.hdi(trace.posterior['sigma'], var_names=['sigma'], hdi_prob=0.95))\n",
        "print(\"x este: \", mu_mean);\n",
        "print(\"sigma prezis este: \", mu_mean);\n",
        "print(\"intervalul de incredere de 95% pentru  mu: \", az.hdi(trace.posterior['mu'], var_names=['mu'], hdi_prob=0.95) );\n",
        "print(\"intervalul de incredere de 95% pentru  sigma: \", az.hdi(trace.posterior['sigma'], var_names=['sigma'], hdi_prob=0.95) );"
      ]
    }
  ]
}